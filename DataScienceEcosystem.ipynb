{
 "cells": [
  {
   "cell_type": "markdown",
   "id": "b54176ab-99a7-433d-aa2f-4cb08b859ff5",
   "metadata": {},
   "source": [
    "# Data Science Tools and Ecosystem"
   ]
  },
  {
   "cell_type": "markdown",
   "id": "f7169960-a4d2-4e7e-bb51-05c03cf500e9",
   "metadata": {},
   "source": [
    "In this notebook, Data Science Tools and Ecosystem are summarized."
   ]
  },
  {
   "cell_type": "markdown",
   "id": "2e6e0054-a97a-4c10-a175-2af47b57f4ee",
   "metadata": {},
   "source": [
    "**Objectives:**\n",
    "\n",
    "* List popular languages for Data Science.\n",
    "* List commonly used libraries for Data Science.\n",
    "* List Data Science tools.\n",
    "* List examples of arithmetic expressions in Phyton."
   ]
  },
  {
   "cell_type": "markdown",
   "id": "7d8cdbeb-66e7-4607-8cfd-76f88ec50cbe",
   "metadata": {},
   "source": [
    "Some of the popular languages that Data Scientists use are:\n",
    "\n",
    "1. Python.\n",
    "2. SQL.\n",
    "3. R.\n",
    "4. Julia.\n",
    "5. JavaScript.\n",
    "6. Scala."
   ]
  },
  {
   "cell_type": "markdown",
   "id": "85e0cb6b-4b1b-4d8b-9a6b-a9ebd143f40e",
   "metadata": {},
   "source": [
    "Some of the commonly used libraries used by Data Scientists include:\n",
    "\n",
    "1. Scikit-learn.\n",
    "2. SciPy.\n",
    "3. Plotly.\n",
    "4. Seaborn.\n",
    "5. Keras.\n",
    "6. TensorFlow."
   ]
  },
  {
   "cell_type": "markdown",
   "id": "0dc320fc-ed14-4ce4-9f70-fb68c58841ff",
   "metadata": {},
   "source": [
    "| Data Science Tools |\n",
    "| -------- |\n",
    "| Apache Spark |\n",
    "| R Studio |\n",
    "| TensorFlow |"
   ]
  },
  {
   "cell_type": "markdown",
   "id": "37e24bce-f136-4f99-8314-d38469498f53",
   "metadata": {},
   "source": [
    "### Below are a few examples of evaluating arithmetic expressions in Python."
   ]
  },
  {
   "cell_type": "markdown",
   "id": "9395c28c-ddec-4431-8033-4cab9e452426",
   "metadata": {},
   "source": [
    "This a simple arithmetic expression to mutiply then add integers."
   ]
  },
  {
   "cell_type": "code",
   "execution_count": 4,
   "id": "e84a5d49-4e75-4162-a4ee-bac71262e109",
   "metadata": {},
   "outputs": [
    {
     "data": {
      "text/plain": [
       "17"
      ]
     },
     "execution_count": 4,
     "metadata": {},
     "output_type": "execute_result"
    }
   ],
   "source": [
    "(3*4)+5"
   ]
  },
  {
   "cell_type": "markdown",
   "id": "57321bae-e18d-4e86-9e5d-50eb79c45107",
   "metadata": {},
   "source": [
    "This will convert 200 minutes to hours by diving by 60."
   ]
  },
  {
   "cell_type": "code",
   "execution_count": 5,
   "id": "ad7bd964-44ff-49de-8d12-c7565e5a7db2",
   "metadata": {},
   "outputs": [
    {
     "data": {
      "text/plain": [
       "3.3333333333333335"
      ]
     },
     "execution_count": 5,
     "metadata": {},
     "output_type": "execute_result"
    }
   ],
   "source": [
    "200/60"
   ]
  },
  {
   "cell_type": "markdown",
   "id": "fd677637-a218-4376-b300-234d27d8e11f",
   "metadata": {},
   "source": [
    "## Author\n",
    "Mary Guerra"
   ]
  },
  {
   "cell_type": "code",
   "execution_count": null,
   "id": "f2930208-062f-4d67-a7f0-5ab4b1959dce",
   "metadata": {},
   "outputs": [],
   "source": []
  }
 ],
 "metadata": {
  "kernelspec": {
   "display_name": "Python 3 (ipykernel)",
   "language": "python",
   "name": "python3"
  },
  "language_info": {
   "codemirror_mode": {
    "name": "ipython",
    "version": 3
   },
   "file_extension": ".py",
   "mimetype": "text/x-python",
   "name": "python",
   "nbconvert_exporter": "python",
   "pygments_lexer": "ipython3",
   "version": "3.11.7"
  }
 },
 "nbformat": 4,
 "nbformat_minor": 5
}
